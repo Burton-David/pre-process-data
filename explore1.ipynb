{
 "cells": [
  {
   "cell_type": "code",
   "execution_count": null,
   "metadata": {},
   "outputs": [],
   "source": [
    "# First, import the necessary modules\n",
    "import pandas as pd\n",
    "import matplotlib.pyplot as plt\n",
    "import seaborn as sns\n",
    "\n",
    "# Next, import the load_csv function from the loadCSV module\n",
    "from loadCSV import load_csv\n",
    "\n",
    "# Prompt the user to enter the name of the CSV file\n",
    "file_name = input('Enter the name of the CSV file: ')\n",
    "\n",
    "# Load the CSV file into a Pandas dataframe\n",
    "df = load_csv(file_name)\n",
    "\n",
    "# Print the first few rows of the dataframe\n",
    "print(df.head())\n",
    "\n",
    "# Calculate basic statistics for numerical columns\n",
    "print(df.describe())\n",
    "\n",
    "# Use Seaborn to plot a pairplot of the data\n",
    "sns.pairplot(df)\n",
    "plt.show()\n"
   ]
  }
 ],
 "metadata": {
  "kernelspec": {
   "display_name": "Python 3",
   "language": "python",
   "name": "python3"
  },
  "language_info": {
   "name": "python",
   "version": "3.9.13 (main, May 24 2022, 21:13:51) \n[Clang 13.1.6 (clang-1316.0.21.2)]"
  },
  "orig_nbformat": 4,
  "vscode": {
   "interpreter": {
    "hash": "b0fa6594d8f4cbf19f97940f81e996739fb7646882a419484c72d19e05852a7e"
   }
  }
 },
 "nbformat": 4,
 "nbformat_minor": 2
}
